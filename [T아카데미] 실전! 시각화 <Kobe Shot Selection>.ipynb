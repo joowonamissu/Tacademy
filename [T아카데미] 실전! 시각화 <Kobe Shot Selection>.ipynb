{
 "cells": [
  {
   "cell_type": "markdown",
   "metadata": {},
   "source": [
    "3가지 데이터 시각화 : 서클 패킹 다이어그램, 바 차트(barplot), 도트 플롯맵\n",
    "서클 패킹 다이어그램 --> D3.js \n",
    "바 차트 + 도트 플롯맵 --> seaborn\n",
    "\n",
    "\n",
    "은퇴한 유명 농구선수 코비 슛 데이터 총 30697개 분석하여 예측하는 맞추는 대회\n",
    "(80%데이터만 성공 실패 데이터 존재, 20% 나머지 예측)"
   ]
  },
  {
   "cell_type": "code",
   "execution_count": 1,
   "metadata": {},
   "outputs": [],
   "source": [
    "import pandas as pd\n",
    "from IPython.core.interactiveshell import InteractiveShell\n",
    "InteractiveShell.ast_node_interactivity = \"all\""
   ]
  },
  {
   "cell_type": "code",
   "execution_count": 2,
   "metadata": {},
   "outputs": [],
   "source": [
    "df=pd.read_csv('data/kobe_data.csv')"
   ]
  },
  {
   "cell_type": "code",
   "execution_count": 3,
   "metadata": {},
   "outputs": [
    {
     "data": {
      "text/html": [
       "<div>\n",
       "<style scoped>\n",
       "    .dataframe tbody tr th:only-of-type {\n",
       "        vertical-align: middle;\n",
       "    }\n",
       "\n",
       "    .dataframe tbody tr th {\n",
       "        vertical-align: top;\n",
       "    }\n",
       "\n",
       "    .dataframe thead th {\n",
       "        text-align: right;\n",
       "    }\n",
       "</style>\n",
       "<table border=\"1\" class=\"dataframe\">\n",
       "  <thead>\n",
       "    <tr style=\"text-align: right;\">\n",
       "      <th></th>\n",
       "      <th>action_type</th>\n",
       "      <th>combined_shot_type</th>\n",
       "      <th>game_event_id</th>\n",
       "      <th>game_id</th>\n",
       "      <th>lat</th>\n",
       "      <th>loc_x</th>\n",
       "      <th>loc_y</th>\n",
       "      <th>lon</th>\n",
       "      <th>minutes_remaining</th>\n",
       "      <th>period</th>\n",
       "      <th>...</th>\n",
       "      <th>shot_type</th>\n",
       "      <th>shot_zone_area</th>\n",
       "      <th>shot_zone_basic</th>\n",
       "      <th>shot_zone_range</th>\n",
       "      <th>team_id</th>\n",
       "      <th>team_name</th>\n",
       "      <th>game_date</th>\n",
       "      <th>matchup</th>\n",
       "      <th>opponent</th>\n",
       "      <th>shot_id</th>\n",
       "    </tr>\n",
       "  </thead>\n",
       "  <tbody>\n",
       "    <tr>\n",
       "      <th>0</th>\n",
       "      <td>Jump Shot</td>\n",
       "      <td>Jump Shot</td>\n",
       "      <td>10</td>\n",
       "      <td>20000012</td>\n",
       "      <td>33.9723</td>\n",
       "      <td>167</td>\n",
       "      <td>72</td>\n",
       "      <td>-118.1028</td>\n",
       "      <td>10</td>\n",
       "      <td>1</td>\n",
       "      <td>...</td>\n",
       "      <td>2PT Field Goal</td>\n",
       "      <td>Right Side(R)</td>\n",
       "      <td>Mid-Range</td>\n",
       "      <td>16-24 ft.</td>\n",
       "      <td>1610612747</td>\n",
       "      <td>Los Angeles Lakers</td>\n",
       "      <td>2000-10-31</td>\n",
       "      <td>LAL @ POR</td>\n",
       "      <td>POR</td>\n",
       "      <td>1</td>\n",
       "    </tr>\n",
       "    <tr>\n",
       "      <th>1</th>\n",
       "      <td>Jump Shot</td>\n",
       "      <td>Jump Shot</td>\n",
       "      <td>12</td>\n",
       "      <td>20000012</td>\n",
       "      <td>34.0443</td>\n",
       "      <td>-157</td>\n",
       "      <td>0</td>\n",
       "      <td>-118.4268</td>\n",
       "      <td>10</td>\n",
       "      <td>1</td>\n",
       "      <td>...</td>\n",
       "      <td>2PT Field Goal</td>\n",
       "      <td>Left Side(L)</td>\n",
       "      <td>Mid-Range</td>\n",
       "      <td>8-16 ft.</td>\n",
       "      <td>1610612747</td>\n",
       "      <td>Los Angeles Lakers</td>\n",
       "      <td>2000-10-31</td>\n",
       "      <td>LAL @ POR</td>\n",
       "      <td>POR</td>\n",
       "      <td>2</td>\n",
       "    </tr>\n",
       "  </tbody>\n",
       "</table>\n",
       "<p>2 rows × 25 columns</p>\n",
       "</div>"
      ],
      "text/plain": [
       "  action_type combined_shot_type  game_event_id   game_id      lat  loc_x  \\\n",
       "0   Jump Shot          Jump Shot             10  20000012  33.9723    167   \n",
       "1   Jump Shot          Jump Shot             12  20000012  34.0443   -157   \n",
       "\n",
       "   loc_y       lon  minutes_remaining  period   ...          shot_type  \\\n",
       "0     72 -118.1028                 10       1   ...     2PT Field Goal   \n",
       "1      0 -118.4268                 10       1   ...     2PT Field Goal   \n",
       "\n",
       "  shot_zone_area  shot_zone_basic  shot_zone_range     team_id  \\\n",
       "0  Right Side(R)        Mid-Range        16-24 ft.  1610612747   \n",
       "1   Left Side(L)        Mid-Range         8-16 ft.  1610612747   \n",
       "\n",
       "            team_name   game_date    matchup opponent  shot_id  \n",
       "0  Los Angeles Lakers  2000-10-31  LAL @ POR      POR        1  \n",
       "1  Los Angeles Lakers  2000-10-31  LAL @ POR      POR        2  \n",
       "\n",
       "[2 rows x 25 columns]"
      ]
     },
     "execution_count": 3,
     "metadata": {},
     "output_type": "execute_result"
    },
    {
     "data": {
      "text/html": [
       "<div>\n",
       "<style scoped>\n",
       "    .dataframe tbody tr th:only-of-type {\n",
       "        vertical-align: middle;\n",
       "    }\n",
       "\n",
       "    .dataframe tbody tr th {\n",
       "        vertical-align: top;\n",
       "    }\n",
       "\n",
       "    .dataframe thead th {\n",
       "        text-align: right;\n",
       "    }\n",
       "</style>\n",
       "<table border=\"1\" class=\"dataframe\">\n",
       "  <thead>\n",
       "    <tr style=\"text-align: right;\">\n",
       "      <th></th>\n",
       "      <th>action_type</th>\n",
       "      <th>combined_shot_type</th>\n",
       "      <th>game_event_id</th>\n",
       "      <th>game_id</th>\n",
       "      <th>lat</th>\n",
       "      <th>loc_x</th>\n",
       "      <th>loc_y</th>\n",
       "      <th>lon</th>\n",
       "      <th>minutes_remaining</th>\n",
       "      <th>period</th>\n",
       "      <th>...</th>\n",
       "      <th>shot_type</th>\n",
       "      <th>shot_zone_area</th>\n",
       "      <th>shot_zone_basic</th>\n",
       "      <th>shot_zone_range</th>\n",
       "      <th>team_id</th>\n",
       "      <th>team_name</th>\n",
       "      <th>game_date</th>\n",
       "      <th>matchup</th>\n",
       "      <th>opponent</th>\n",
       "      <th>shot_id</th>\n",
       "    </tr>\n",
       "  </thead>\n",
       "  <tbody>\n",
       "    <tr>\n",
       "      <th>30695</th>\n",
       "      <td>Jump Shot</td>\n",
       "      <td>Jump Shot</td>\n",
       "      <td>448</td>\n",
       "      <td>49900088</td>\n",
       "      <td>33.7773</td>\n",
       "      <td>31</td>\n",
       "      <td>267</td>\n",
       "      <td>-118.2388</td>\n",
       "      <td>2</td>\n",
       "      <td>4</td>\n",
       "      <td>...</td>\n",
       "      <td>3PT Field Goal</td>\n",
       "      <td>Center(C)</td>\n",
       "      <td>Above the Break 3</td>\n",
       "      <td>24+ ft.</td>\n",
       "      <td>1610612747</td>\n",
       "      <td>Los Angeles Lakers</td>\n",
       "      <td>2000-06-19</td>\n",
       "      <td>LAL vs. IND</td>\n",
       "      <td>IND</td>\n",
       "      <td>30696</td>\n",
       "    </tr>\n",
       "    <tr>\n",
       "      <th>30696</th>\n",
       "      <td>Jump Shot</td>\n",
       "      <td>Jump Shot</td>\n",
       "      <td>471</td>\n",
       "      <td>49900088</td>\n",
       "      <td>33.9723</td>\n",
       "      <td>1</td>\n",
       "      <td>72</td>\n",
       "      <td>-118.2688</td>\n",
       "      <td>0</td>\n",
       "      <td>4</td>\n",
       "      <td>...</td>\n",
       "      <td>2PT Field Goal</td>\n",
       "      <td>Center(C)</td>\n",
       "      <td>In The Paint (Non-RA)</td>\n",
       "      <td>Less Than 8 ft.</td>\n",
       "      <td>1610612747</td>\n",
       "      <td>Los Angeles Lakers</td>\n",
       "      <td>2000-06-19</td>\n",
       "      <td>LAL vs. IND</td>\n",
       "      <td>IND</td>\n",
       "      <td>30697</td>\n",
       "    </tr>\n",
       "  </tbody>\n",
       "</table>\n",
       "<p>2 rows × 25 columns</p>\n",
       "</div>"
      ],
      "text/plain": [
       "      action_type combined_shot_type  game_event_id   game_id      lat  loc_x  \\\n",
       "30695   Jump Shot          Jump Shot            448  49900088  33.7773     31   \n",
       "30696   Jump Shot          Jump Shot            471  49900088  33.9723      1   \n",
       "\n",
       "       loc_y       lon  minutes_remaining  period   ...          shot_type  \\\n",
       "30695    267 -118.2388                  2       4   ...     3PT Field Goal   \n",
       "30696     72 -118.2688                  0       4   ...     2PT Field Goal   \n",
       "\n",
       "      shot_zone_area        shot_zone_basic  shot_zone_range     team_id  \\\n",
       "30695      Center(C)      Above the Break 3          24+ ft.  1610612747   \n",
       "30696      Center(C)  In The Paint (Non-RA)  Less Than 8 ft.  1610612747   \n",
       "\n",
       "                team_name   game_date      matchup opponent  shot_id  \n",
       "30695  Los Angeles Lakers  2000-06-19  LAL vs. IND      IND    30696  \n",
       "30696  Los Angeles Lakers  2000-06-19  LAL vs. IND      IND    30697  \n",
       "\n",
       "[2 rows x 25 columns]"
      ]
     },
     "execution_count": 3,
     "metadata": {},
     "output_type": "execute_result"
    }
   ],
   "source": [
    "#df.loc[:2,-3:-1]\n",
    "df.head(2)\n",
    "df.tail(2)"
   ]
  },
  {
   "cell_type": "code",
   "execution_count": 4,
   "metadata": {},
   "outputs": [
    {
     "data": {
      "text/plain": [
       "30697"
      ]
     },
     "execution_count": 4,
     "metadata": {},
     "output_type": "execute_result"
    }
   ],
   "source": [
    "#df.info()\n",
    "len(df)\n",
    "#df.columns"
   ]
  },
  {
   "cell_type": "markdown",
   "metadata": {},
   "source": [
    "필요없는 데이터 제거"
   ]
  },
  {
   "cell_type": "code",
   "execution_count": 5,
   "metadata": {},
   "outputs": [],
   "source": [
    "#빼는것을 하나 추가\n",
    "#df\n",
    "\n",
    "df.drop(['game_event_id', 'game_id', 'lat','lon', 'minutes_remaining', 'period', 'playoffs',\n",
    "       'season', 'seconds_remaining'],axis=1,inplace=True)\n",
    "df.drop(['team_id', 'team_name', 'game_date', 'matchup', 'opponent'], axis=1, inplace=True)\n"
   ]
  },
  {
   "cell_type": "code",
   "execution_count": 6,
   "metadata": {},
   "outputs": [],
   "source": [
    "df.drop(['shot_distance','shot_type','shot_zone_range','shot_id'], axis=1, inplace=True)"
   ]
  },
  {
   "cell_type": "code",
   "execution_count": 7,
   "metadata": {},
   "outputs": [
    {
     "data": {
      "text/html": [
       "<div>\n",
       "<style scoped>\n",
       "    .dataframe tbody tr th:only-of-type {\n",
       "        vertical-align: middle;\n",
       "    }\n",
       "\n",
       "    .dataframe tbody tr th {\n",
       "        vertical-align: top;\n",
       "    }\n",
       "\n",
       "    .dataframe thead th {\n",
       "        text-align: right;\n",
       "    }\n",
       "</style>\n",
       "<table border=\"1\" class=\"dataframe\">\n",
       "  <thead>\n",
       "    <tr style=\"text-align: right;\">\n",
       "      <th></th>\n",
       "      <th>action_type</th>\n",
       "      <th>combined_shot_type</th>\n",
       "      <th>loc_x</th>\n",
       "      <th>loc_y</th>\n",
       "      <th>shot_made_flag</th>\n",
       "      <th>shot_zone_area</th>\n",
       "      <th>shot_zone_basic</th>\n",
       "    </tr>\n",
       "  </thead>\n",
       "  <tbody>\n",
       "    <tr>\n",
       "      <th>0</th>\n",
       "      <td>Jump Shot</td>\n",
       "      <td>Jump Shot</td>\n",
       "      <td>167</td>\n",
       "      <td>72</td>\n",
       "      <td>NaN</td>\n",
       "      <td>Right Side(R)</td>\n",
       "      <td>Mid-Range</td>\n",
       "    </tr>\n",
       "    <tr>\n",
       "      <th>1</th>\n",
       "      <td>Jump Shot</td>\n",
       "      <td>Jump Shot</td>\n",
       "      <td>-157</td>\n",
       "      <td>0</td>\n",
       "      <td>0.0</td>\n",
       "      <td>Left Side(L)</td>\n",
       "      <td>Mid-Range</td>\n",
       "    </tr>\n",
       "    <tr>\n",
       "      <th>2</th>\n",
       "      <td>Jump Shot</td>\n",
       "      <td>Jump Shot</td>\n",
       "      <td>-101</td>\n",
       "      <td>135</td>\n",
       "      <td>1.0</td>\n",
       "      <td>Left Side Center(LC)</td>\n",
       "      <td>Mid-Range</td>\n",
       "    </tr>\n",
       "  </tbody>\n",
       "</table>\n",
       "</div>"
      ],
      "text/plain": [
       "  action_type combined_shot_type  loc_x  loc_y  shot_made_flag  \\\n",
       "0   Jump Shot          Jump Shot    167     72             NaN   \n",
       "1   Jump Shot          Jump Shot   -157      0             0.0   \n",
       "2   Jump Shot          Jump Shot   -101    135             1.0   \n",
       "\n",
       "         shot_zone_area shot_zone_basic  \n",
       "0         Right Side(R)       Mid-Range  \n",
       "1          Left Side(L)       Mid-Range  \n",
       "2  Left Side Center(LC)       Mid-Range  "
      ]
     },
     "execution_count": 7,
     "metadata": {},
     "output_type": "execute_result"
    },
    {
     "data": {
      "text/html": [
       "<div>\n",
       "<style scoped>\n",
       "    .dataframe tbody tr th:only-of-type {\n",
       "        vertical-align: middle;\n",
       "    }\n",
       "\n",
       "    .dataframe tbody tr th {\n",
       "        vertical-align: top;\n",
       "    }\n",
       "\n",
       "    .dataframe thead th {\n",
       "        text-align: right;\n",
       "    }\n",
       "</style>\n",
       "<table border=\"1\" class=\"dataframe\">\n",
       "  <thead>\n",
       "    <tr style=\"text-align: right;\">\n",
       "      <th></th>\n",
       "      <th>action_type</th>\n",
       "      <th>combined_shot_type</th>\n",
       "      <th>loc_x</th>\n",
       "      <th>loc_y</th>\n",
       "      <th>shot_made_flag</th>\n",
       "      <th>shot_zone_area</th>\n",
       "      <th>shot_zone_basic</th>\n",
       "    </tr>\n",
       "  </thead>\n",
       "  <tbody>\n",
       "    <tr>\n",
       "      <th>30694</th>\n",
       "      <td>Running Jump Shot</td>\n",
       "      <td>Jump Shot</td>\n",
       "      <td>-134</td>\n",
       "      <td>166</td>\n",
       "      <td>1.0</td>\n",
       "      <td>Left Side Center(LC)</td>\n",
       "      <td>Mid-Range</td>\n",
       "    </tr>\n",
       "    <tr>\n",
       "      <th>30695</th>\n",
       "      <td>Jump Shot</td>\n",
       "      <td>Jump Shot</td>\n",
       "      <td>31</td>\n",
       "      <td>267</td>\n",
       "      <td>0.0</td>\n",
       "      <td>Center(C)</td>\n",
       "      <td>Above the Break 3</td>\n",
       "    </tr>\n",
       "    <tr>\n",
       "      <th>30696</th>\n",
       "      <td>Jump Shot</td>\n",
       "      <td>Jump Shot</td>\n",
       "      <td>1</td>\n",
       "      <td>72</td>\n",
       "      <td>0.0</td>\n",
       "      <td>Center(C)</td>\n",
       "      <td>In The Paint (Non-RA)</td>\n",
       "    </tr>\n",
       "  </tbody>\n",
       "</table>\n",
       "</div>"
      ],
      "text/plain": [
       "             action_type combined_shot_type  loc_x  loc_y  shot_made_flag  \\\n",
       "30694  Running Jump Shot          Jump Shot   -134    166             1.0   \n",
       "30695          Jump Shot          Jump Shot     31    267             0.0   \n",
       "30696          Jump Shot          Jump Shot      1     72             0.0   \n",
       "\n",
       "             shot_zone_area        shot_zone_basic  \n",
       "30694  Left Side Center(LC)              Mid-Range  \n",
       "30695             Center(C)      Above the Break 3  \n",
       "30696             Center(C)  In The Paint (Non-RA)  "
      ]
     },
     "execution_count": 7,
     "metadata": {},
     "output_type": "execute_result"
    }
   ],
   "source": [
    "df.head(3)\n",
    "df.tail(3)"
   ]
  },
  {
   "cell_type": "markdown",
   "metadata": {},
   "source": [
    "슛팅의 종류가 어떻게 나뉘는지 시각화로 쉽게 알아보자 by D3.js (서클 패킹 다이어그램)"
   ]
  },
  {
   "cell_type": "markdown",
   "metadata": {},
   "source": [
    "빅데이터 전처리 (약간 복잡함 / 진행하다 중간 생략할 듯)"
   ]
  },
  {
   "cell_type": "code",
   "execution_count": 8,
   "metadata": {},
   "outputs": [
    {
     "data": {
      "text/plain": [
       "30697"
      ]
     },
     "execution_count": 8,
     "metadata": {},
     "output_type": "execute_result"
    },
    {
     "data": {
      "text/plain": [
       "25697"
      ]
     },
     "execution_count": 8,
     "metadata": {},
     "output_type": "execute_result"
    }
   ],
   "source": [
    "shot_type_df = df.dropna()\n",
    "len(df)\n",
    "len(shot_type_df)"
   ]
  },
  {
   "cell_type": "code",
   "execution_count": 9,
   "metadata": {},
   "outputs": [
    {
     "data": {
      "text/html": [
       "<div>\n",
       "<style scoped>\n",
       "    .dataframe tbody tr th:only-of-type {\n",
       "        vertical-align: middle;\n",
       "    }\n",
       "\n",
       "    .dataframe tbody tr th {\n",
       "        vertical-align: top;\n",
       "    }\n",
       "\n",
       "    .dataframe thead th {\n",
       "        text-align: right;\n",
       "    }\n",
       "</style>\n",
       "<table border=\"1\" class=\"dataframe\">\n",
       "  <thead>\n",
       "    <tr style=\"text-align: right;\">\n",
       "      <th></th>\n",
       "      <th>action_type</th>\n",
       "      <th>combined_shot_type</th>\n",
       "    </tr>\n",
       "  </thead>\n",
       "  <tbody>\n",
       "    <tr>\n",
       "      <th>1</th>\n",
       "      <td>Jump Shot</td>\n",
       "      <td>Jump Shot</td>\n",
       "    </tr>\n",
       "    <tr>\n",
       "      <th>2</th>\n",
       "      <td>Jump Shot</td>\n",
       "      <td>Jump Shot</td>\n",
       "    </tr>\n",
       "  </tbody>\n",
       "</table>\n",
       "</div>"
      ],
      "text/plain": [
       "  action_type combined_shot_type\n",
       "1   Jump Shot          Jump Shot\n",
       "2   Jump Shot          Jump Shot"
      ]
     },
     "execution_count": 9,
     "metadata": {},
     "output_type": "execute_result"
    },
    {
     "data": {
      "text/html": [
       "<div>\n",
       "<style scoped>\n",
       "    .dataframe tbody tr th:only-of-type {\n",
       "        vertical-align: middle;\n",
       "    }\n",
       "\n",
       "    .dataframe tbody tr th {\n",
       "        vertical-align: top;\n",
       "    }\n",
       "\n",
       "    .dataframe thead th {\n",
       "        text-align: right;\n",
       "    }\n",
       "</style>\n",
       "<table border=\"1\" class=\"dataframe\">\n",
       "  <thead>\n",
       "    <tr style=\"text-align: right;\">\n",
       "      <th></th>\n",
       "      <th>action_type</th>\n",
       "      <th>combined_shot_type</th>\n",
       "    </tr>\n",
       "  </thead>\n",
       "  <tbody>\n",
       "    <tr>\n",
       "      <th>30695</th>\n",
       "      <td>Jump Shot</td>\n",
       "      <td>Jump Shot</td>\n",
       "    </tr>\n",
       "    <tr>\n",
       "      <th>30696</th>\n",
       "      <td>Jump Shot</td>\n",
       "      <td>Jump Shot</td>\n",
       "    </tr>\n",
       "  </tbody>\n",
       "</table>\n",
       "</div>"
      ],
      "text/plain": [
       "      action_type combined_shot_type\n",
       "30695   Jump Shot          Jump Shot\n",
       "30696   Jump Shot          Jump Shot"
      ]
     },
     "execution_count": 9,
     "metadata": {},
     "output_type": "execute_result"
    }
   ],
   "source": [
    "shot_type_df = shot_type_df[['action_type','combined_shot_type']]\n",
    "shot_type_df.head(2)\n",
    "shot_type_df.tail(2)"
   ]
  },
  {
   "cell_type": "code",
   "execution_count": 10,
   "metadata": {},
   "outputs": [
    {
     "data": {
      "text/plain": [
       "pandas.core.frame.DataFrame"
      ]
     },
     "execution_count": 10,
     "metadata": {},
     "output_type": "execute_result"
    },
    {
     "data": {
      "text/plain": [
       "pandas.core.groupby.DataFrameGroupBy"
      ]
     },
     "execution_count": 10,
     "metadata": {},
     "output_type": "execute_result"
    },
    {
     "data": {
      "text/plain": [
       "pandas.core.series.Series"
      ]
     },
     "execution_count": 10,
     "metadata": {},
     "output_type": "execute_result"
    }
   ],
   "source": [
    "shot_group =shot_type_df.groupby(['combined_shot_type','action_type'])\n",
    "type(shot_type_df)\n",
    "type(shot_group)\n",
    "type(shot_group.size())\n",
    "shot_group = shot_group.size()\n",
    "#shot_group.index"
   ]
  },
  {
   "cell_type": "code",
   "execution_count": 11,
   "metadata": {},
   "outputs": [
    {
     "data": {
      "text/plain": [
       "Index(['Bank Shot', 'Bank Shot', 'Bank Shot', 'Bank Shot', 'Bank Shot', 'Dunk',\n",
       "       'Dunk', 'Dunk', 'Dunk', 'Dunk', 'Dunk', 'Dunk', 'Dunk', 'Dunk', 'Dunk',\n",
       "       'Dunk', 'Dunk', 'Hook Shot', 'Hook Shot', 'Hook Shot', 'Hook Shot',\n",
       "       'Jump Shot', 'Jump Shot', 'Jump Shot', 'Jump Shot', 'Jump Shot',\n",
       "       'Jump Shot', 'Jump Shot', 'Jump Shot', 'Jump Shot', 'Jump Shot',\n",
       "       'Jump Shot', 'Jump Shot', 'Jump Shot', 'Jump Shot', 'Jump Shot',\n",
       "       'Layup', 'Layup', 'Layup', 'Layup', 'Layup', 'Layup', 'Layup', 'Layup',\n",
       "       'Layup', 'Layup', 'Layup', 'Layup', 'Layup', 'Layup', 'Layup', 'Layup',\n",
       "       'Layup', 'Tip Shot', 'Tip Shot'],\n",
       "      dtype='object', name='combined_shot_type')"
      ]
     },
     "execution_count": 11,
     "metadata": {},
     "output_type": "execute_result"
    }
   ],
   "source": [
    "shot_group.index.get_level_values(0)\n",
    "level0 = shot_group.index.get_level_values(0).tolist()\n",
    "level1 = shot_group.index.get_level_values(1).tolist()\n",
    "#shot_group.index.get_level_values('combined_shot_type')\n",
    "#shot_group['Dunk'].index\n",
    "#shot_group.size().index\n"
   ]
  },
  {
   "cell_type": "code",
   "execution_count": 12,
   "metadata": {},
   "outputs": [],
   "source": [
    "shot_group_dict = shot_group.to_dict()\n",
    "base_index = ['Bank Shot', 'Dunk', 'Hook Shot', 'Jump Shot', 'Layup', 'Tip Shot']\n",
    "\n",
    "shot_group_dict_adv ={}\n",
    "for index in base_index:\n",
    "    shot_group_dict_adv[index] = {}\n",
    "for index in shot_group_dict :\n",
    "    shot_group_dict_adv[index[0]][index[1]] = shot_group[index]\n",
    "#    print (index)\n",
    "#shot_group_dict_adv\n",
    "#shot_group_dict"
   ]
  },
  {
   "cell_type": "code",
   "execution_count": 13,
   "metadata": {},
   "outputs": [
    {
     "data": {
      "text/html": [
       "<div>\n",
       "<style scoped>\n",
       "    .dataframe tbody tr th:only-of-type {\n",
       "        vertical-align: middle;\n",
       "    }\n",
       "\n",
       "    .dataframe tbody tr th {\n",
       "        vertical-align: top;\n",
       "    }\n",
       "\n",
       "    .dataframe thead th {\n",
       "        text-align: right;\n",
       "    }\n",
       "</style>\n",
       "<table border=\"1\" class=\"dataframe\">\n",
       "  <thead>\n",
       "    <tr style=\"text-align: right;\">\n",
       "      <th></th>\n",
       "      <th>children</th>\n",
       "      <th>name</th>\n",
       "    </tr>\n",
       "  </thead>\n",
       "  <tbody>\n",
       "    <tr>\n",
       "      <th>0</th>\n",
       "      <td>{'name': 'Bank Shot', 'children': [{'name': 'D...</td>\n",
       "      <td>shot_selection</td>\n",
       "    </tr>\n",
       "    <tr>\n",
       "      <th>1</th>\n",
       "      <td>{'name': 'Dunk', 'children': [{'name': 'Alley ...</td>\n",
       "      <td>shot_selection</td>\n",
       "    </tr>\n",
       "    <tr>\n",
       "      <th>2</th>\n",
       "      <td>{'name': 'Hook Shot', 'children': [{'name': 'D...</td>\n",
       "      <td>shot_selection</td>\n",
       "    </tr>\n",
       "    <tr>\n",
       "      <th>3</th>\n",
       "      <td>{'name': 'Jump Shot', 'children': [{'name': 'D...</td>\n",
       "      <td>shot_selection</td>\n",
       "    </tr>\n",
       "    <tr>\n",
       "      <th>4</th>\n",
       "      <td>{'name': 'Layup', 'children': [{'name': 'Alley...</td>\n",
       "      <td>shot_selection</td>\n",
       "    </tr>\n",
       "  </tbody>\n",
       "</table>\n",
       "</div>"
      ],
      "text/plain": [
       "                                            children            name\n",
       "0  {'name': 'Bank Shot', 'children': [{'name': 'D...  shot_selection\n",
       "1  {'name': 'Dunk', 'children': [{'name': 'Alley ...  shot_selection\n",
       "2  {'name': 'Hook Shot', 'children': [{'name': 'D...  shot_selection\n",
       "3  {'name': 'Jump Shot', 'children': [{'name': 'D...  shot_selection\n",
       "4  {'name': 'Layup', 'children': [{'name': 'Alley...  shot_selection"
      ]
     },
     "execution_count": 13,
     "metadata": {},
     "output_type": "execute_result"
    }
   ],
   "source": [
    "import json\n",
    "\n",
    "kobe_dic = {}\n",
    "kobe_dic[\"name\"]= \"shot_selection\"\n",
    "kobe_dic[\"children\"] = []\n",
    "\n",
    "#for index in shot_group_dict_adv:\n",
    "#    temp_dic = {\"name\":index,\"children\" : []}\n",
    "#    kobe_dic[\"children\"].append(temp_dic)\n",
    "for index_0 in shot_group_dict_adv:\n",
    "    temp_dic = {\"name\":index_0,\"children\" : []}\n",
    " #   kobe_dic[\"children\"].append(temp_dic)\n",
    " #   kobe_dic[\"children\"].append()\n",
    "    for index_1 in shot_group_dict_adv[index_0]:\n",
    "        temp_dic_2 = {\"name\":index_1,\"size\" : \\\n",
    "                      str(shot_group_dict_adv[index_0][index_1])}\n",
    "        temp_dic['children'].append(temp_dic_2)\n",
    "    kobe_dic[\"children\"].append(temp_dic)    \n",
    "#kobe_dic        \n",
    "kobe_json_temp = json.dumps(kobe_dic)\n",
    "\n",
    "\n",
    "with open('kobe_temp.json', 'w') as outfile:  \n",
    "    json.dump(kobe_dic, outfile)\n",
    "pd.read_json('kobe_temp.json').head()\n",
    "#kobe_json"
   ]
  },
  {
   "cell_type": "markdown",
   "metadata": {},
   "source": [
    "html css javascript 를 통해 D3.js 데이터 시각화 진행"
   ]
  },
  {
   "cell_type": "code",
   "execution_count": 14,
   "metadata": {},
   "outputs": [],
   "source": [
    "html_string = \"\"\"\n",
    "<!DOCTYPE html>\n",
    "<meta charset=\"utf-8\">\n",
    "<style>\n",
    "\n",
    ".node {\n",
    "  cursor: pointer;\n",
    "}\n",
    "\n",
    ".node:hover {\n",
    "  stroke: #000;\n",
    "  stroke-width: 1.5px;\n",
    "}\n",
    "\n",
    ".node--leaf {\n",
    "  fill: white;\n",
    "}\n",
    "\n",
    ".label {\n",
    "  font: 11px \"Helvetica Neue\", Helvetica, Arial, sans-serif;\n",
    "  text-anchor: middle;\n",
    "  text-shadow: 0 1px 0 #fff, 1px 0 0 #fff, -1px 0 0 #fff, 0 -1px 0 #fff;\n",
    "}\n",
    "\n",
    ".label,\n",
    ".node--root,\n",
    ".node--leaf {\n",
    "  pointer-events: none;\n",
    "}\n",
    "\n",
    "</style>\n",
    "<svg width=\"380\" height=\"380\"></svg>\n",
    "\"\"\""
   ]
  },
  {
   "cell_type": "code",
   "execution_count": 15,
   "metadata": {},
   "outputs": [],
   "source": [
    "js_string=\"\"\"\n",
    " require.config({\n",
    "    paths: {\n",
    "        d3: \"https://d3js.org/d3.v4.min\"\n",
    "     }\n",
    " });\n",
    "\n",
    "  require([\"d3\"], function(d3) {\n",
    "\n",
    "   console.log(d3);\n",
    "\n",
    "var svg = d3.select(\"svg\"),\n",
    "    margin = 20,\n",
    "    diameter = +svg.attr(\"width\"),\n",
    "    g = svg.append(\"g\").attr(\"transform\", \"translate(\" + diameter / 2 + \",\" + diameter / 2 + \")\");\n",
    "\n",
    "var color = d3.scaleSequential(d3.interpolateViridis)\n",
    "    .domain([-4, 4]);\n",
    "\n",
    "var pack = d3.pack()\n",
    "    .size([diameter - margin, diameter - margin])\n",
    "    .padding(2);\n",
    "\n",
    "d3.json(\"kobe_temp.json\", function(error, root) {\n",
    "  if (error) throw error;\n",
    "\n",
    "  root = d3.hierarchy(root)\n",
    "      .sum(function(d) { return d.size; })\n",
    "      .sort(function(a, b) { return b.value - a.value; });\n",
    "\n",
    "  var focus = root,\n",
    "      nodes = pack(root).descendants(),\n",
    "      view;\n",
    "\n",
    "  var circle = g.selectAll(\"circle\")\n",
    "    .data(nodes)\n",
    "    .enter().append(\"circle\")\n",
    "      .attr(\"class\", function(d) { return d.parent ? d.children ? \"node\" : \"node node--leaf\" : \"node node--root\"; })\n",
    "      .style(\"fill\", function(d) { return d.children ? color(d.depth) : null; })\n",
    "      .on(\"click\", function(d) { if (focus !== d) zoom(d), d3.event.stopPropagation(); });\n",
    "\n",
    "  var text = g.selectAll(\"text\")\n",
    "    .data(nodes)\n",
    "    .enter().append(\"text\")\n",
    "      .attr(\"class\", \"label\")\n",
    "      .style(\"fill-opacity\", function(d) { return d.parent === root ? 1 : 0; })\n",
    "      .style(\"display\", function(d) { return d.parent === root ? \"inline\" : \"none\"; })\n",
    "      .text(function(d) { return d.data.name; });\n",
    "\n",
    "  var node = g.selectAll(\"circle,text\");\n",
    "\n",
    "  svg\n",
    "      .style(\"background\", color(-1))\n",
    "      .on(\"click\", function() { zoom(root); });\n",
    "\n",
    "  zoomTo([root.x, root.y, root.r * 2 + margin]);\n",
    "\n",
    "  function zoom(d) {\n",
    "    var focus0 = focus; focus = d;\n",
    "\n",
    "    var transition = d3.transition()\n",
    "        .duration(d3.event.altKey ? 7500 : 750)\n",
    "        .tween(\"zoom\", function(d) {\n",
    "          var i = d3.interpolateZoom(view, [focus.x, focus.y, focus.r * 2 + margin]);\n",
    "          return function(t) { zoomTo(i(t)); };\n",
    "        });\n",
    "\n",
    "    transition.selectAll(\"text\")\n",
    "      .filter(function(d) { return d.parent === focus || this.style.display === \"inline\"; })\n",
    "        .style(\"fill-opacity\", function(d) { return d.parent === focus ? 1 : 0; })\n",
    "        .on(\"start\", function(d) { if (d.parent === focus) this.style.display = \"inline\"; })\n",
    "        .on(\"end\", function(d) { if (d.parent !== focus) this.style.display = \"none\"; });\n",
    "  }\n",
    "\n",
    "  function zoomTo(v) {\n",
    "    var k = diameter / v[2]; view = v;\n",
    "    node.attr(\"transform\", function(d) { return \"translate(\" + (d.x - v[0]) * k + \",\" + (d.y - v[1]) * k + \")\"; });\n",
    "    circle.attr(\"r\", function(d) { return d.r * k; });\n",
    "  }\n",
    "});\n",
    "  });\n",
    " \"\"\""
   ]
  },
  {
   "cell_type": "code",
   "execution_count": 16,
   "metadata": {
    "scrolled": true
   },
   "outputs": [
    {
     "data": {
      "text/html": [
       "\n",
       "<!DOCTYPE html>\n",
       "<meta charset=\"utf-8\">\n",
       "<style>\n",
       "\n",
       ".node {\n",
       "  cursor: pointer;\n",
       "}\n",
       "\n",
       ".node:hover {\n",
       "  stroke: #000;\n",
       "  stroke-width: 1.5px;\n",
       "}\n",
       "\n",
       ".node--leaf {\n",
       "  fill: white;\n",
       "}\n",
       "\n",
       ".label {\n",
       "  font: 11px \"Helvetica Neue\", Helvetica, Arial, sans-serif;\n",
       "  text-anchor: middle;\n",
       "  text-shadow: 0 1px 0 #fff, 1px 0 0 #fff, -1px 0 0 #fff, 0 -1px 0 #fff;\n",
       "}\n",
       "\n",
       ".label,\n",
       ".node--root,\n",
       ".node--leaf {\n",
       "  pointer-events: none;\n",
       "}\n",
       "\n",
       "</style>\n",
       "<svg width=\"380\" height=\"380\"></svg>\n"
      ],
      "text/plain": [
       "<IPython.core.display.HTML object>"
      ]
     },
     "metadata": {},
     "output_type": "display_data"
    },
    {
     "data": {
      "application/javascript": [
       "\n",
       " require.config({\n",
       "    paths: {\n",
       "        d3: \"https://d3js.org/d3.v4.min\"\n",
       "     }\n",
       " });\n",
       "\n",
       "  require([\"d3\"], function(d3) {\n",
       "\n",
       "   console.log(d3);\n",
       "\n",
       "var svg = d3.select(\"svg\"),\n",
       "    margin = 20,\n",
       "    diameter = +svg.attr(\"width\"),\n",
       "    g = svg.append(\"g\").attr(\"transform\", \"translate(\" + diameter / 2 + \",\" + diameter / 2 + \")\");\n",
       "\n",
       "var color = d3.scaleSequential(d3.interpolateViridis)\n",
       "    .domain([-4, 4]);\n",
       "\n",
       "var pack = d3.pack()\n",
       "    .size([diameter - margin, diameter - margin])\n",
       "    .padding(2);\n",
       "\n",
       "d3.json(\"kobe_temp.json\", function(error, root) {\n",
       "  if (error) throw error;\n",
       "\n",
       "  root = d3.hierarchy(root)\n",
       "      .sum(function(d) { return d.size; })\n",
       "      .sort(function(a, b) { return b.value - a.value; });\n",
       "\n",
       "  var focus = root,\n",
       "      nodes = pack(root).descendants(),\n",
       "      view;\n",
       "\n",
       "  var circle = g.selectAll(\"circle\")\n",
       "    .data(nodes)\n",
       "    .enter().append(\"circle\")\n",
       "      .attr(\"class\", function(d) { return d.parent ? d.children ? \"node\" : \"node node--leaf\" : \"node node--root\"; })\n",
       "      .style(\"fill\", function(d) { return d.children ? color(d.depth) : null; })\n",
       "      .on(\"click\", function(d) { if (focus !== d) zoom(d), d3.event.stopPropagation(); });\n",
       "\n",
       "  var text = g.selectAll(\"text\")\n",
       "    .data(nodes)\n",
       "    .enter().append(\"text\")\n",
       "      .attr(\"class\", \"label\")\n",
       "      .style(\"fill-opacity\", function(d) { return d.parent === root ? 1 : 0; })\n",
       "      .style(\"display\", function(d) { return d.parent === root ? \"inline\" : \"none\"; })\n",
       "      .text(function(d) { return d.data.name; });\n",
       "\n",
       "  var node = g.selectAll(\"circle,text\");\n",
       "\n",
       "  svg\n",
       "      .style(\"background\", color(-1))\n",
       "      .on(\"click\", function() { zoom(root); });\n",
       "\n",
       "  zoomTo([root.x, root.y, root.r * 2 + margin]);\n",
       "\n",
       "  function zoom(d) {\n",
       "    var focus0 = focus; focus = d;\n",
       "\n",
       "    var transition = d3.transition()\n",
       "        .duration(d3.event.altKey ? 7500 : 750)\n",
       "        .tween(\"zoom\", function(d) {\n",
       "          var i = d3.interpolateZoom(view, [focus.x, focus.y, focus.r * 2 + margin]);\n",
       "          return function(t) { zoomTo(i(t)); };\n",
       "        });\n",
       "\n",
       "    transition.selectAll(\"text\")\n",
       "      .filter(function(d) { return d.parent === focus || this.style.display === \"inline\"; })\n",
       "        .style(\"fill-opacity\", function(d) { return d.parent === focus ? 1 : 0; })\n",
       "        .on(\"start\", function(d) { if (d.parent === focus) this.style.display = \"inline\"; })\n",
       "        .on(\"end\", function(d) { if (d.parent !== focus) this.style.display = \"none\"; });\n",
       "  }\n",
       "\n",
       "  function zoomTo(v) {\n",
       "    var k = diameter / v[2]; view = v;\n",
       "    node.attr(\"transform\", function(d) { return \"translate(\" + (d.x - v[0]) * k + \",\" + (d.y - v[1]) * k + \")\"; });\n",
       "    circle.attr(\"r\", function(d) { return d.r * k; });\n",
       "  }\n",
       "});\n",
       "  });\n",
       " "
      ]
     },
     "metadata": {},
     "output_type": "display_data"
    }
   ],
   "source": [
    "import IPython.display\n",
    "from IPython.core.display import display, HTML, Javascript\n",
    "h = display(HTML(html_string))\n",
    "j = IPython.display.Javascript(js_string)\n",
    "IPython.display.display_javascript(j)"
   ]
  },
  {
   "cell_type": "markdown",
   "metadata": {},
   "source": [
    "어떤 슛팅이 성공률이 높은지 시각화로 쉽게 알아보자 by seaborn (바 차트)"
   ]
  },
  {
   "cell_type": "code",
   "execution_count": 17,
   "metadata": {},
   "outputs": [],
   "source": [
    "shoot_percentage = df.dropna()[['combined_shot_type','shot_made_flag']].groupby(['combined_shot_type']).mean().sort_values(by='shot_made_flag',ascending=1)"
   ]
  },
  {
   "cell_type": "code",
   "execution_count": 18,
   "metadata": {},
   "outputs": [
    {
     "data": {
      "text/html": [
       "<div>\n",
       "<style scoped>\n",
       "    .dataframe tbody tr th:only-of-type {\n",
       "        vertical-align: middle;\n",
       "    }\n",
       "\n",
       "    .dataframe tbody tr th {\n",
       "        vertical-align: top;\n",
       "    }\n",
       "\n",
       "    .dataframe thead th {\n",
       "        text-align: right;\n",
       "    }\n",
       "</style>\n",
       "<table border=\"1\" class=\"dataframe\">\n",
       "  <thead>\n",
       "    <tr style=\"text-align: right;\">\n",
       "      <th></th>\n",
       "      <th>shot_made_flag</th>\n",
       "    </tr>\n",
       "    <tr>\n",
       "      <th>combined_shot_type</th>\n",
       "      <th></th>\n",
       "    </tr>\n",
       "  </thead>\n",
       "  <tbody>\n",
       "    <tr>\n",
       "      <th>Tip Shot</th>\n",
       "      <td>0.348684</td>\n",
       "    </tr>\n",
       "    <tr>\n",
       "      <th>Jump Shot</th>\n",
       "      <td>0.391071</td>\n",
       "    </tr>\n",
       "    <tr>\n",
       "      <th>Hook Shot</th>\n",
       "      <td>0.535433</td>\n",
       "    </tr>\n",
       "    <tr>\n",
       "      <th>Layup</th>\n",
       "      <td>0.565093</td>\n",
       "    </tr>\n",
       "    <tr>\n",
       "      <th>Bank Shot</th>\n",
       "      <td>0.791667</td>\n",
       "    </tr>\n",
       "    <tr>\n",
       "      <th>Dunk</th>\n",
       "      <td>0.928030</td>\n",
       "    </tr>\n",
       "  </tbody>\n",
       "</table>\n",
       "</div>"
      ],
      "text/plain": [
       "                    shot_made_flag\n",
       "combined_shot_type                \n",
       "Tip Shot                  0.348684\n",
       "Jump Shot                 0.391071\n",
       "Hook Shot                 0.535433\n",
       "Layup                     0.565093\n",
       "Bank Shot                 0.791667\n",
       "Dunk                      0.928030"
      ]
     },
     "execution_count": 18,
     "metadata": {},
     "output_type": "execute_result"
    },
    {
     "data": {
      "text/plain": [
       "Index(['Tip Shot', 'Jump Shot', 'Hook Shot', 'Layup', 'Bank Shot', 'Dunk'], dtype='object', name='combined_shot_type')"
      ]
     },
     "execution_count": 18,
     "metadata": {},
     "output_type": "execute_result"
    },
    {
     "data": {
      "text/plain": [
       "Index(['shot_made_flag'], dtype='object')"
      ]
     },
     "execution_count": 18,
     "metadata": {},
     "output_type": "execute_result"
    }
   ],
   "source": [
    "shoot_percentage\n",
    "shoot_percentage.index\n",
    "shoot_percentage.columns"
   ]
  },
  {
   "cell_type": "code",
   "execution_count": 19,
   "metadata": {},
   "outputs": [
    {
     "data": {
      "text/plain": [
       "<matplotlib.axes._subplots.AxesSubplot at 0x7f07e6a3fda0>"
      ]
     },
     "execution_count": 19,
     "metadata": {},
     "output_type": "execute_result"
    },
    {
     "data": {
      "image/png": "[encoded data removed]",
      "text/plain": [
       "<matplotlib.figure.Figure at 0x7f08011e9e48>"
      ]
     },
     "metadata": {},
     "output_type": "display_data"
    }
   ],
   "source": [
    "import seaborn as sns\n",
    "import matplotlib.pyplot as plt\n",
    "sns.barplot(x=shoot_percentage.index,y=shoot_percentage.shot_made_flag)\n",
    "#plt.xticks(rotation=45)\n",
    "plt.show()"
   ]
  },
  {
   "cell_type": "markdown",
   "metadata": {},
   "source": [
    "골대에서 멀어질 수록 정말 골을 넣기 어려운지 알아보자 by seaborn (도트 플롯 맵)"
   ]
  },
  {
   "cell_type": "code",
   "execution_count": 21,
   "metadata": {},
   "outputs": [
    {
     "data": {
      "text/html": [
       "<div>\n",
       "<style scoped>\n",
       "    .dataframe tbody tr th:only-of-type {\n",
       "        vertical-align: middle;\n",
       "    }\n",
       "\n",
       "    .dataframe tbody tr th {\n",
       "        vertical-align: top;\n",
       "    }\n",
       "\n",
       "    .dataframe thead th {\n",
       "        text-align: right;\n",
       "    }\n",
       "</style>\n",
       "<table border=\"1\" class=\"dataframe\">\n",
       "  <thead>\n",
       "    <tr style=\"text-align: right;\">\n",
       "      <th></th>\n",
       "      <th>action_type</th>\n",
       "      <th>combined_shot_type</th>\n",
       "      <th>loc_x</th>\n",
       "      <th>loc_y</th>\n",
       "      <th>shot_made_flag</th>\n",
       "      <th>shot_zone_area</th>\n",
       "      <th>shot_zone_basic</th>\n",
       "    </tr>\n",
       "  </thead>\n",
       "  <tbody>\n",
       "    <tr>\n",
       "      <th>0</th>\n",
       "      <td>Jump Shot</td>\n",
       "      <td>Jump Shot</td>\n",
       "      <td>167</td>\n",
       "      <td>72</td>\n",
       "      <td>NaN</td>\n",
       "      <td>Right Side(R)</td>\n",
       "      <td>Mid-Range</td>\n",
       "    </tr>\n",
       "    <tr>\n",
       "      <th>1</th>\n",
       "      <td>Jump Shot</td>\n",
       "      <td>Jump Shot</td>\n",
       "      <td>-157</td>\n",
       "      <td>0</td>\n",
       "      <td>0.0</td>\n",
       "      <td>Left Side(L)</td>\n",
       "      <td>Mid-Range</td>\n",
       "    </tr>\n",
       "  </tbody>\n",
       "</table>\n",
       "</div>"
      ],
      "text/plain": [
       "  action_type combined_shot_type  loc_x  loc_y  shot_made_flag shot_zone_area  \\\n",
       "0   Jump Shot          Jump Shot    167     72             NaN  Right Side(R)   \n",
       "1   Jump Shot          Jump Shot   -157      0             0.0   Left Side(L)   \n",
       "\n",
       "  shot_zone_basic  \n",
       "0       Mid-Range  \n",
       "1       Mid-Range  "
      ]
     },
     "execution_count": 21,
     "metadata": {},
     "output_type": "execute_result"
    },
    {
     "data": {
      "text/html": [
       "<div>\n",
       "<style scoped>\n",
       "    .dataframe tbody tr th:only-of-type {\n",
       "        vertical-align: middle;\n",
       "    }\n",
       "\n",
       "    .dataframe tbody tr th {\n",
       "        vertical-align: top;\n",
       "    }\n",
       "\n",
       "    .dataframe thead th {\n",
       "        text-align: right;\n",
       "    }\n",
       "</style>\n",
       "<table border=\"1\" class=\"dataframe\">\n",
       "  <thead>\n",
       "    <tr style=\"text-align: right;\">\n",
       "      <th></th>\n",
       "      <th>action_type</th>\n",
       "      <th>combined_shot_type</th>\n",
       "      <th>loc_x</th>\n",
       "      <th>loc_y</th>\n",
       "      <th>shot_made_flag</th>\n",
       "      <th>shot_zone_area</th>\n",
       "      <th>shot_zone_basic</th>\n",
       "    </tr>\n",
       "  </thead>\n",
       "  <tbody>\n",
       "    <tr>\n",
       "      <th>30695</th>\n",
       "      <td>Jump Shot</td>\n",
       "      <td>Jump Shot</td>\n",
       "      <td>31</td>\n",
       "      <td>267</td>\n",
       "      <td>0.0</td>\n",
       "      <td>Center(C)</td>\n",
       "      <td>Above the Break 3</td>\n",
       "    </tr>\n",
       "    <tr>\n",
       "      <th>30696</th>\n",
       "      <td>Jump Shot</td>\n",
       "      <td>Jump Shot</td>\n",
       "      <td>1</td>\n",
       "      <td>72</td>\n",
       "      <td>0.0</td>\n",
       "      <td>Center(C)</td>\n",
       "      <td>In The Paint (Non-RA)</td>\n",
       "    </tr>\n",
       "  </tbody>\n",
       "</table>\n",
       "</div>"
      ],
      "text/plain": [
       "      action_type combined_shot_type  loc_x  loc_y  shot_made_flag  \\\n",
       "30695   Jump Shot          Jump Shot     31    267             0.0   \n",
       "30696   Jump Shot          Jump Shot      1     72             0.0   \n",
       "\n",
       "      shot_zone_area        shot_zone_basic  \n",
       "30695      Center(C)      Above the Break 3  \n",
       "30696      Center(C)  In The Paint (Non-RA)  "
      ]
     },
     "execution_count": 21,
     "metadata": {},
     "output_type": "execute_result"
    }
   ],
   "source": [
    "df.head(2)\n",
    "df.tail(2)"
   ]
  },
  {
   "cell_type": "code",
   "execution_count": 22,
   "metadata": {},
   "outputs": [
    {
     "data": {
      "text/html": [
       "<div>\n",
       "<style scoped>\n",
       "    .dataframe tbody tr th:only-of-type {\n",
       "        vertical-align: middle;\n",
       "    }\n",
       "\n",
       "    .dataframe tbody tr th {\n",
       "        vertical-align: top;\n",
       "    }\n",
       "\n",
       "    .dataframe thead th {\n",
       "        text-align: right;\n",
       "    }\n",
       "</style>\n",
       "<table border=\"1\" class=\"dataframe\">\n",
       "  <thead>\n",
       "    <tr style=\"text-align: right;\">\n",
       "      <th></th>\n",
       "      <th>action_type</th>\n",
       "      <th>combined_shot_type</th>\n",
       "      <th>loc_x</th>\n",
       "      <th>loc_y</th>\n",
       "      <th>shot_made_flag</th>\n",
       "      <th>shot_zone_area</th>\n",
       "      <th>shot_zone_basic</th>\n",
       "      <th>shot_zone_combined</th>\n",
       "    </tr>\n",
       "  </thead>\n",
       "  <tbody>\n",
       "    <tr>\n",
       "      <th>0</th>\n",
       "      <td>Jump Shot</td>\n",
       "      <td>Jump Shot</td>\n",
       "      <td>167</td>\n",
       "      <td>72</td>\n",
       "      <td>NaN</td>\n",
       "      <td>Right Side(R)</td>\n",
       "      <td>Mid-Range</td>\n",
       "      <td>Right Side(R) Mid-Range</td>\n",
       "    </tr>\n",
       "    <tr>\n",
       "      <th>1</th>\n",
       "      <td>Jump Shot</td>\n",
       "      <td>Jump Shot</td>\n",
       "      <td>-157</td>\n",
       "      <td>0</td>\n",
       "      <td>0.0</td>\n",
       "      <td>Left Side(L)</td>\n",
       "      <td>Mid-Range</td>\n",
       "      <td>Left Side(L) Mid-Range</td>\n",
       "    </tr>\n",
       "  </tbody>\n",
       "</table>\n",
       "</div>"
      ],
      "text/plain": [
       "  action_type combined_shot_type  loc_x  loc_y  shot_made_flag shot_zone_area  \\\n",
       "0   Jump Shot          Jump Shot    167     72             NaN  Right Side(R)   \n",
       "1   Jump Shot          Jump Shot   -157      0             0.0   Left Side(L)   \n",
       "\n",
       "  shot_zone_basic       shot_zone_combined  \n",
       "0       Mid-Range  Right Side(R) Mid-Range  \n",
       "1       Mid-Range   Left Side(L) Mid-Range  "
      ]
     },
     "execution_count": 22,
     "metadata": {},
     "output_type": "execute_result"
    },
    {
     "data": {
      "text/html": [
       "<div>\n",
       "<style scoped>\n",
       "    .dataframe tbody tr th:only-of-type {\n",
       "        vertical-align: middle;\n",
       "    }\n",
       "\n",
       "    .dataframe tbody tr th {\n",
       "        vertical-align: top;\n",
       "    }\n",
       "\n",
       "    .dataframe thead th {\n",
       "        text-align: right;\n",
       "    }\n",
       "</style>\n",
       "<table border=\"1\" class=\"dataframe\">\n",
       "  <thead>\n",
       "    <tr style=\"text-align: right;\">\n",
       "      <th></th>\n",
       "      <th>action_type</th>\n",
       "      <th>combined_shot_type</th>\n",
       "      <th>loc_x</th>\n",
       "      <th>loc_y</th>\n",
       "      <th>shot_made_flag</th>\n",
       "      <th>shot_zone_area</th>\n",
       "      <th>shot_zone_basic</th>\n",
       "      <th>shot_zone_combined</th>\n",
       "    </tr>\n",
       "  </thead>\n",
       "  <tbody>\n",
       "    <tr>\n",
       "      <th>30695</th>\n",
       "      <td>Jump Shot</td>\n",
       "      <td>Jump Shot</td>\n",
       "      <td>31</td>\n",
       "      <td>267</td>\n",
       "      <td>0.0</td>\n",
       "      <td>Center(C)</td>\n",
       "      <td>Above the Break 3</td>\n",
       "      <td>Center(C) Above the Break 3</td>\n",
       "    </tr>\n",
       "    <tr>\n",
       "      <th>30696</th>\n",
       "      <td>Jump Shot</td>\n",
       "      <td>Jump Shot</td>\n",
       "      <td>1</td>\n",
       "      <td>72</td>\n",
       "      <td>0.0</td>\n",
       "      <td>Center(C)</td>\n",
       "      <td>In The Paint (Non-RA)</td>\n",
       "      <td>Center(C) In The Paint (Non-RA)</td>\n",
       "    </tr>\n",
       "  </tbody>\n",
       "</table>\n",
       "</div>"
      ],
      "text/plain": [
       "      action_type combined_shot_type  loc_x  loc_y  shot_made_flag  \\\n",
       "30695   Jump Shot          Jump Shot     31    267             0.0   \n",
       "30696   Jump Shot          Jump Shot      1     72             0.0   \n",
       "\n",
       "      shot_zone_area        shot_zone_basic               shot_zone_combined  \n",
       "30695      Center(C)      Above the Break 3      Center(C) Above the Break 3  \n",
       "30696      Center(C)  In The Paint (Non-RA)  Center(C) In The Paint (Non-RA)  "
      ]
     },
     "execution_count": 22,
     "metadata": {},
     "output_type": "execute_result"
    }
   ],
   "source": [
    "df['shot_zone_combined'] = df[['shot_zone_area','shot_zone_basic']].apply(lambda x: ' '.join(x), axis=1)\n",
    "df.head(2)\n",
    "df.tail(2)"
   ]
  },
  {
   "cell_type": "code",
   "execution_count": 23,
   "metadata": {},
   "outputs": [
    {
     "data": {
      "text/plain": [
       "shot_zone_combined\n",
       "Back Court(BC) Above the Break 3           0.000000\n",
       "Back Court(BC) Backcourt                   0.016667\n",
       "Center(C) Above the Break 3                0.320734\n",
       "Center(C) In The Paint (Non-RA)            0.455065\n",
       "Center(C) Mid-Range                        0.418877\n",
       "Center(C) Restricted Area                  0.618004\n",
       "Left Side Center(LC) Above the Break 3     0.319277\n",
       "Left Side Center(LC) Mid-Range             0.410923\n",
       "Left Side(L) In The Paint (Non-RA)         0.412698\n",
       "Left Side(L) Left Corner 3                 0.370833\n",
       "Left Side(L) Mid-Range                     0.397361\n",
       "Right Side Center(RC) Above the Break 3    0.344581\n",
       "Right Side Center(RC) Mid-Range            0.419259\n",
       "Right Side(R) In The Paint (Non-RA)        0.480769\n",
       "Right Side(R) Mid-Range                    0.397749\n",
       "Right Side(R) Right Corner 3               0.339339\n",
       "Name: shot_made_flag, dtype: float64"
      ]
     },
     "execution_count": 23,
     "metadata": {},
     "output_type": "execute_result"
    }
   ],
   "source": [
    "shot_zone_map = df.groupby(['shot_zone_combined']).mean()['shot_made_flag']\n",
    "shot_zone_map"
   ]
  },
  {
   "cell_type": "code",
   "execution_count": 24,
   "metadata": {},
   "outputs": [
    {
     "data": {
      "text/html": [
       "<div>\n",
       "<style scoped>\n",
       "    .dataframe tbody tr th:only-of-type {\n",
       "        vertical-align: middle;\n",
       "    }\n",
       "\n",
       "    .dataframe tbody tr th {\n",
       "        vertical-align: top;\n",
       "    }\n",
       "\n",
       "    .dataframe thead th {\n",
       "        text-align: right;\n",
       "    }\n",
       "</style>\n",
       "<table border=\"1\" class=\"dataframe\">\n",
       "  <thead>\n",
       "    <tr style=\"text-align: right;\">\n",
       "      <th></th>\n",
       "      <th>action_type</th>\n",
       "      <th>combined_shot_type</th>\n",
       "      <th>loc_x</th>\n",
       "      <th>loc_y</th>\n",
       "      <th>shot_made_flag</th>\n",
       "      <th>shot_zone_area</th>\n",
       "      <th>shot_zone_basic</th>\n",
       "      <th>shot_zone_combined</th>\n",
       "      <th>avg_by_shot_zone_combined</th>\n",
       "    </tr>\n",
       "  </thead>\n",
       "  <tbody>\n",
       "    <tr>\n",
       "      <th>0</th>\n",
       "      <td>Jump Shot</td>\n",
       "      <td>Jump Shot</td>\n",
       "      <td>167</td>\n",
       "      <td>72</td>\n",
       "      <td>NaN</td>\n",
       "      <td>Right Side(R)</td>\n",
       "      <td>Mid-Range</td>\n",
       "      <td>Right Side(R) Mid-Range</td>\n",
       "      <td>0.397749</td>\n",
       "    </tr>\n",
       "    <tr>\n",
       "      <th>1</th>\n",
       "      <td>Jump Shot</td>\n",
       "      <td>Jump Shot</td>\n",
       "      <td>-157</td>\n",
       "      <td>0</td>\n",
       "      <td>0.0</td>\n",
       "      <td>Left Side(L)</td>\n",
       "      <td>Mid-Range</td>\n",
       "      <td>Left Side(L) Mid-Range</td>\n",
       "      <td>0.397361</td>\n",
       "    </tr>\n",
       "  </tbody>\n",
       "</table>\n",
       "</div>"
      ],
      "text/plain": [
       "  action_type combined_shot_type  loc_x  loc_y  shot_made_flag shot_zone_area  \\\n",
       "0   Jump Shot          Jump Shot    167     72             NaN  Right Side(R)   \n",
       "1   Jump Shot          Jump Shot   -157      0             0.0   Left Side(L)   \n",
       "\n",
       "  shot_zone_basic       shot_zone_combined  avg_by_shot_zone_combined  \n",
       "0       Mid-Range  Right Side(R) Mid-Range                   0.397749  \n",
       "1       Mid-Range   Left Side(L) Mid-Range                   0.397361  "
      ]
     },
     "execution_count": 24,
     "metadata": {},
     "output_type": "execute_result"
    },
    {
     "data": {
      "text/html": [
       "<div>\n",
       "<style scoped>\n",
       "    .dataframe tbody tr th:only-of-type {\n",
       "        vertical-align: middle;\n",
       "    }\n",
       "\n",
       "    .dataframe tbody tr th {\n",
       "        vertical-align: top;\n",
       "    }\n",
       "\n",
       "    .dataframe thead th {\n",
       "        text-align: right;\n",
       "    }\n",
       "</style>\n",
       "<table border=\"1\" class=\"dataframe\">\n",
       "  <thead>\n",
       "    <tr style=\"text-align: right;\">\n",
       "      <th></th>\n",
       "      <th>action_type</th>\n",
       "      <th>combined_shot_type</th>\n",
       "      <th>loc_x</th>\n",
       "      <th>loc_y</th>\n",
       "      <th>shot_made_flag</th>\n",
       "      <th>shot_zone_area</th>\n",
       "      <th>shot_zone_basic</th>\n",
       "      <th>shot_zone_combined</th>\n",
       "      <th>avg_by_shot_zone_combined</th>\n",
       "    </tr>\n",
       "  </thead>\n",
       "  <tbody>\n",
       "    <tr>\n",
       "      <th>30695</th>\n",
       "      <td>Jump Shot</td>\n",
       "      <td>Jump Shot</td>\n",
       "      <td>31</td>\n",
       "      <td>267</td>\n",
       "      <td>0.0</td>\n",
       "      <td>Center(C)</td>\n",
       "      <td>Above the Break 3</td>\n",
       "      <td>Center(C) Above the Break 3</td>\n",
       "      <td>0.320734</td>\n",
       "    </tr>\n",
       "    <tr>\n",
       "      <th>30696</th>\n",
       "      <td>Jump Shot</td>\n",
       "      <td>Jump Shot</td>\n",
       "      <td>1</td>\n",
       "      <td>72</td>\n",
       "      <td>0.0</td>\n",
       "      <td>Center(C)</td>\n",
       "      <td>In The Paint (Non-RA)</td>\n",
       "      <td>Center(C) In The Paint (Non-RA)</td>\n",
       "      <td>0.455065</td>\n",
       "    </tr>\n",
       "  </tbody>\n",
       "</table>\n",
       "</div>"
      ],
      "text/plain": [
       "      action_type combined_shot_type  loc_x  loc_y  shot_made_flag  \\\n",
       "30695   Jump Shot          Jump Shot     31    267             0.0   \n",
       "30696   Jump Shot          Jump Shot      1     72             0.0   \n",
       "\n",
       "      shot_zone_area        shot_zone_basic               shot_zone_combined  \\\n",
       "30695      Center(C)      Above the Break 3      Center(C) Above the Break 3   \n",
       "30696      Center(C)  In The Paint (Non-RA)  Center(C) In The Paint (Non-RA)   \n",
       "\n",
       "       avg_by_shot_zone_combined  \n",
       "30695                   0.320734  \n",
       "30696                   0.455065  "
      ]
     },
     "execution_count": 24,
     "metadata": {},
     "output_type": "execute_result"
    }
   ],
   "source": [
    "df['avg_by_shot_zone_combined'] = df['shot_zone_combined'].map(shot_zone_map)\n",
    "df.head(2)\n",
    "df.tail(2)\n",
    "df = df[df['loc_y']>=0]"
   ]
  },
  {
   "cell_type": "code",
   "execution_count": 25,
   "metadata": {},
   "outputs": [
    {
     "data": {
      "text/plain": [
       "<matplotlib.collections.PathCollection at 0x7f07ddbfc668>"
      ]
     },
     "execution_count": 25,
     "metadata": {},
     "output_type": "execute_result"
    },
    {
     "data": {
      "text/plain": [
       "(280, -280)"
      ]
     },
     "execution_count": 25,
     "metadata": {},
     "output_type": "execute_result"
    },
    {
     "data": {
      "text/plain": [
       "(-10, 450)"
      ]
     },
     "execution_count": 25,
     "metadata": {},
     "output_type": "execute_result"
    },
    {
     "data": {
      "text/plain": [
       "<matplotlib.colorbar.Colorbar at 0x7f07ddbbcac8>"
      ]
     },
     "execution_count": 25,
     "metadata": {},
     "output_type": "execute_result"
    },
    {
     "data": {
      "text/plain": [
       "Text(0.5,1,\"Kobe Bryant's shot accuracy by Shot Zone\")"
      ]
     },
     "execution_count": 25,
     "metadata": {},
     "output_type": "execute_result"
    }
   ],
   "source": [
    "fig = plt.figure(figsize=(10,8))\n",
    "plt.scatter(df['loc_x'],df['loc_y'],c=df['avg_by_shot_zone_combined'],s=50, cmap='viridis')\n",
    "plt.xlim(280,-280)\n",
    "plt.ylim(-10,450)\n",
    "plt.colorbar()\n",
    "plt.title('Kobe Bryant\\'s shot accuracy by Shot Zone')\n"
   ]
  },
  {
   "cell_type": "code",
   "execution_count": 26,
   "metadata": {},
   "outputs": [
    {
     "data": {
      "image/png": "[encoded data removed]",
      "text/plain": [
       "<matplotlib.figure.Figure at 0x7f07dde5b0f0>"
      ]
     },
     "metadata": {},
     "output_type": "display_data"
    }
   ],
   "source": [
    "plt.show()\n",
    "#plt.savefig('Kobe Bryants shot accuracy by zone.png')"
   ]
  },
  {
   "cell_type": "code",
   "execution_count": null,
   "metadata": {},
   "outputs": [],
   "source": []
  },
  {
   "cell_type": "code",
   "execution_count": null,
   "metadata": {},
   "outputs": [],
   "source": []
  },
  {
   "cell_type": "code",
   "execution_count": null,
   "metadata": {},
   "outputs": [],
   "source": []
  },
  {
   "cell_type": "code",
   "execution_count": null,
   "metadata": {},
   "outputs": [],
   "source": []
  }
 ],
 "metadata": {
  "kernelspec": {
   "display_name": "Python [conda env:ml]",
   "language": "python",
   "name": "conda-env-ml-py"
  },
  "language_info": {
   "codemirror_mode": {
    "name": "ipython",
    "version": 3
   },
   "file_extension": ".py",
   "mimetype": "text/x-python",
   "name": "python",
   "nbconvert_exporter": "python",
   "pygments_lexer": "ipython3",
   "version": "3.6.3"
  }
 },
 "nbformat": 4,
 "nbformat_minor": 2
}
