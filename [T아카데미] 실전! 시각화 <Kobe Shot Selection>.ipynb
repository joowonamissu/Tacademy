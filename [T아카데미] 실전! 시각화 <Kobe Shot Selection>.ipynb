{
 "cells": [
  {
   "cell_type": "markdown",
   "metadata": {
    "_cell_guid": "4a3e655f-5a75-496d-b8e4-dc5ca0e8d42b",
    "_uuid": "4960ce1a15b697b7456740e592ef301c91861a0c"
   },
   "source": [
    " Capstone Proj  : \n",
    " \n",
    " \n",
    "데이터 처리 --> 시각화 & 인터렉티브 \n",
    "\n",
    "\n",
    "(서클 패킹 다이어그램 --> D3.js //\n",
    "바 차트 --> seaborn //\n",
    "도트 플롯맵 --> matplotlib)\n",
    "\n",
    "\n",
    "은퇴한 유명 농구선수 코비 슛 데이터 총 30697개 분석하여 예측하는 맞추는 대회\n",
    "(80%데이터만 성공 실패 데이터 존재, 20% 나머지 예측)"
   ]
  },
  {
   "cell_type": "code",
   "execution_count": null,
   "metadata": {
    "_cell_guid": "e9c2f50b-3d1c-44ab-8f96-85192fbc0b02",
    "_uuid": "1d939a9d84b02808083ec846a4a68ba213744e4e",
    "collapsed": true
   },
   "outputs": [],
   "source": [
    "import pandas as pd\n",
    "from IPython.core.interactiveshell import InteractiveShell\n",
    "InteractiveShell.ast_node_interactivity = \"all\""
   ]
  },
  {
   "cell_type": "code",
   "execution_count": null,
   "metadata": {
    "_cell_guid": "df57660c-11c7-4d35-b1c4-74d0f450269a",
    "_uuid": "3f20427ae27bf87906895663a292fe92dc9da665",
    "collapsed": true
   },
   "outputs": [],
   "source": [
    "df=pd.read_csv('kobe_data.csv')"
   ]
  },
  {
   "cell_type": "code",
   "execution_count": null,
   "metadata": {
    "_cell_guid": "3a6c2070-b71d-406c-862f-d7e75bdd659a",
    "_uuid": "c18d9976eb5291028ac1765bfa269065c780b25e",
    "collapsed": true
   },
   "outputs": [],
   "source": [
    "\n",
    "df.head(2)\n",
    "df.tail(2)"
   ]
  },
  {
   "cell_type": "code",
   "execution_count": null,
   "metadata": {
    "_cell_guid": "253bceb2-b29b-44d6-b08c-e07958fa7aff",
    "_uuid": "770ef0cc5c449e95113021d7726a184715548299",
    "collapsed": true
   },
   "outputs": [],
   "source": [
    "#df.info()\n",
    "len(df)\n"
   ]
  },
  {
   "cell_type": "markdown",
   "metadata": {
    "_cell_guid": "79f716c6-c26b-436f-806c-394f4a3784e6",
    "_uuid": "15225dab91e01a916568936d76e5c79897fcc18e"
   },
   "source": [
    "필요없는 데이터 제거"
   ]
  },
  {
   "cell_type": "code",
   "execution_count": null,
   "metadata": {
    "_cell_guid": "4a187ab2-2228-4f94-b1c3-a85791e53817",
    "_uuid": "4ef392a46188f63c083a1227c945e7e171c01bbb",
    "collapsed": true
   },
   "outputs": [],
   "source": [
    "\n",
    "\n",
    "df.drop(['game_event_id', 'game_id', 'lat','lon', 'minutes_remaining', 'period', 'playoffs',\n",
    "       'season', 'seconds_remaining','team_id', 'team_name', 'game_date', 'matchup', 'opponent','shot_distance','shot_type','shot_zone_range','shot_id'], axis=1, inplace=True)"
   ]
  },
  {
   "cell_type": "code",
   "execution_count": null,
   "metadata": {
    "_cell_guid": "1690bd8d-26ef-4d49-96c0-6af8ed82f10d",
    "_uuid": "9ba7c5f72457785a017db5c5965eafbf5ae01b7f",
    "collapsed": true
   },
   "outputs": [],
   "source": []
  },
  {
   "cell_type": "code",
   "execution_count": null,
   "metadata": {
    "_cell_guid": "f2755766-485a-4826-9fcd-b067556f2a42",
    "_uuid": "81cccb387c85808a4b8cc61ea3a60c411febb9fa",
    "collapsed": true
   },
   "outputs": [],
   "source": [
    "df.head(3)\n",
    "df.tail(3)"
   ]
  },
  {
   "cell_type": "markdown",
   "metadata": {
    "_cell_guid": "d7d5ef14-4c5d-4418-a5a1-cbc62370ff1d",
    "_uuid": "41221278b352fca9983d4c8ba6acc0a08d466478"
   },
   "source": [
    "슛팅의 종류가 어떻게 나뉘는지 시각화로 쉽게 알아보자 by D3.js (서클 패킹 다이어그램)"
   ]
  },
  {
   "cell_type": "markdown",
   "metadata": {
    "_cell_guid": "63d2e7c1-a2e5-4c94-a71d-c264965262af",
    "_uuid": "bf3d8a37754c70b30751f635c6ecd36e65bc14b0"
   },
   "source": [
    "빅데이터 전처리 (약간 복잡함 / 진행하다 중간 생략할 듯)"
   ]
  },
  {
   "cell_type": "code",
   "execution_count": null,
   "metadata": {
    "_cell_guid": "cfe32129-8307-4d2e-84ae-82ca4499a8d1",
    "_uuid": "7db3f828995579c831dd8c59f89ccda96e339ed1",
    "collapsed": true
   },
   "outputs": [],
   "source": [
    "shot_type_df = df.dropna()\n",
    "len(df)\n",
    "len(shot_type_df)"
   ]
  },
  {
   "cell_type": "code",
   "execution_count": null,
   "metadata": {
    "_cell_guid": "6aaccf0c-f361-43ce-9fce-b3276fa2d357",
    "_uuid": "00a7a9a52d6f89a9870405370473ddc51ea8ee4d",
    "collapsed": true
   },
   "outputs": [],
   "source": [
    "shot_type_df = shot_type_df[['action_type','combined_shot_type']]\n",
    "shot_type_df.head(2)\n",
    "shot_type_df.tail(2)"
   ]
  },
  {
   "cell_type": "code",
   "execution_count": null,
   "metadata": {
    "_cell_guid": "09adbdfa-0ff6-4900-8d34-9491fdf89da0",
    "_uuid": "25aebec9c817d6c9e3f98921d2791a48369a83ff",
    "collapsed": true
   },
   "outputs": [],
   "source": [
    "shot_group =shot_type_df.groupby(['combined_shot_type','action_type'])\n",
    "type(shot_type_df)\n",
    "type(shot_group)\n",
    "type(shot_group.size())\n",
    "shot_group.size()\n",
    "shot_group = shot_group.size()"
   ]
  },
  {
   "cell_type": "code",
   "execution_count": null,
   "metadata": {
    "_cell_guid": "22ac6019-dd33-4a37-bb1c-43577e44e47b",
    "_uuid": "8b46d2d6f7bbf9609313a406e7b9d395645ce3fd",
    "collapsed": true
   },
   "outputs": [],
   "source": [
    "shot_group.index.get_level_values(0)\n",
    "shot_group.index.get_level_values(1)\n",
    "level0 = shot_group.index.get_level_values(0).tolist()\n",
    "level1 = shot_group.index.get_level_values(1).tolist()\n",
    "#shot_group.index.get_level_values('combined_shot_type')\n",
    "#shot_group['Dunk'].index\n",
    "#shot_group.size().index\n"
   ]
  },
  {
   "cell_type": "code",
   "execution_count": null,
   "metadata": {
    "_cell_guid": "f124d0e1-8669-4c74-89bd-44aa3b9dabea",
    "_uuid": "cf39bdb89e659f977cbe77ea4f7a789310605fda",
    "collapsed": true
   },
   "outputs": [],
   "source": [
    "shot_group_dict = shot_group.to_dict()\n",
    "base_index = ['Bank Shot', 'Dunk', 'Hook Shot', 'Jump Shot', 'Layup', 'Tip Shot']\n",
    "\n",
    "shot_group_dict_adv ={}\n",
    "for index in base_index:\n",
    "    shot_group_dict_adv[index] = {}\n",
    "for index in shot_group_dict :\n",
    "    shot_group_dict_adv[index[0]][index[1]] = shot_group[index]\n",
    "#    print (index)\n",
    "#shot_group_dict_adv\n",
    "#shot_group_dict"
   ]
  },
  {
   "cell_type": "code",
   "execution_count": null,
   "metadata": {
    "_cell_guid": "1c231c40-85d4-4adc-aeb3-1abd777e81dc",
    "_uuid": "c4dded94153cb2fde15d24fe0bb58b4490ff3050",
    "collapsed": true
   },
   "outputs": [],
   "source": [
    "import json\n",
    "\n",
    "kobe_dic = {}\n",
    "kobe_dic[\"name\"]= \"shot_selection\"\n",
    "kobe_dic[\"children\"] = []\n",
    "\n",
    "#for index in shot_group_dict_adv:\n",
    "#    temp_dic = {\"name\":index,\"children\" : []}\n",
    "#    kobe_dic[\"children\"].append(temp_dic)\n",
    "for index_0 in shot_group_dict_adv:\n",
    "    temp_dic = {\"name\":index_0,\"children\" : []}\n",
    " #   kobe_dic[\"children\"].append(temp_dic)\n",
    " #   kobe_dic[\"children\"].append()\n",
    "    for index_1 in shot_group_dict_adv[index_0]:\n",
    "        temp_dic_2 = {\"name\":index_1,\"size\" : \\\n",
    "                      str(shot_group_dict_adv[index_0][index_1])}\n",
    "        temp_dic['children'].append(temp_dic_2)\n",
    "    kobe_dic[\"children\"].append(temp_dic)    \n",
    "#kobe_dic        \n",
    "kobe_json_temp = json.dumps(kobe_dic)\n",
    "\n",
    "\n",
    "with open('kobe_temp.json', 'w') as outfile:  \n",
    "    json.dump(kobe_dic, outfile)\n",
    "pd.read_json('kobe_temp.json').head()\n",
    "#kobe_json"
   ]
  },
  {
   "cell_type": "markdown",
   "metadata": {
    "_cell_guid": "44d4b0aa-e2a1-4e47-b37d-11941a211828",
    "_uuid": "5ccc7234fbaa5ac260adadfad5811ad12670d5a0"
   },
   "source": [
    "html css javascript 를 통해 D3.js 데이터 시각화 진행"
   ]
  },
  {
   "cell_type": "code",
   "execution_count": null,
   "metadata": {
    "_cell_guid": "82be1255-3eeb-4be4-9a41-62629071feac",
    "_uuid": "dc0040248a8318717417cf1f1cae334883ceda53",
    "collapsed": true
   },
   "outputs": [],
   "source": [
    "html_string = \"\"\"\n",
    "<!DOCTYPE html>\n",
    "<meta charset=\"utf-8\">\n",
    "<style>\n",
    "\n",
    ".node {\n",
    "  cursor: pointer;\n",
    "}\n",
    "\n",
    ".node:hover {\n",
    "  stroke: #000;\n",
    "  stroke-width: 1.5px;\n",
    "}\n",
    "\n",
    ".node--leaf {\n",
    "  fill: white;\n",
    "}\n",
    "\n",
    ".label {\n",
    "  font: 11px \"Helvetica Neue\", Helvetica, Arial, sans-serif;\n",
    "  text-anchor: middle;\n",
    "  text-shadow: 0 1px 0 #fff, 1px 0 0 #fff, -1px 0 0 #fff, 0 -1px 0 #fff;\n",
    "}\n",
    "\n",
    ".label,\n",
    ".node--root,\n",
    ".node--leaf {\n",
    "  pointer-events: none;\n",
    "}\n",
    "\n",
    "</style>\n",
    "<svg width=\"380\" height=\"380\"></svg>\n",
    "\"\"\""
   ]
  },
  {
   "cell_type": "code",
   "execution_count": null,
   "metadata": {
    "_cell_guid": "42452492-c2c4-40e2-a798-4749ca3230fd",
    "_uuid": "d9844b1f3c13b6873e3e067664951b7229061491",
    "collapsed": true
   },
   "outputs": [],
   "source": [
    "js_string=\"\"\"\n",
    " require.config({\n",
    "    paths: {\n",
    "        d3: \"https://d3js.org/d3.v4.min\"\n",
    "     }\n",
    " });\n",
    "\n",
    "  require([\"d3\"], function(d3) {\n",
    "\n",
    "   console.log(d3);\n",
    "\n",
    "var svg = d3.select(\"svg\"),\n",
    "    margin = 20,\n",
    "    diameter = +svg.attr(\"width\"),\n",
    "    g = svg.append(\"g\").attr(\"transform\", \"translate(\" + diameter / 2 + \",\" + diameter / 2 + \")\");\n",
    "\n",
    "var color = d3.scaleSequential(d3.interpolateViridis)\n",
    "    .domain([-4, 4]);\n",
    "\n",
    "var pack = d3.pack()\n",
    "    .size([diameter - margin, diameter - margin])\n",
    "    .padding(2);\n",
    "\n",
    "d3.json(\"kobe_temp.json\", function(error, root) {\n",
    "  if (error) throw error;\n",
    "\n",
    "  root = d3.hierarchy(root)\n",
    "      .sum(function(d) { return d.size; })\n",
    "      .sort(function(a, b) { return b.value - a.value; });\n",
    "\n",
    "  var focus = root,\n",
    "      nodes = pack(root).descendants(),\n",
    "      view;\n",
    "\n",
    "  var circle = g.selectAll(\"circle\")\n",
    "    .data(nodes)\n",
    "    .enter().append(\"circle\")\n",
    "      .attr(\"class\", function(d) { return d.parent ? d.children ? \"node\" : \"node node--leaf\" : \"node node--root\"; })\n",
    "      .style(\"fill\", function(d) { return d.children ? color(d.depth) : null; })\n",
    "      .on(\"click\", function(d) { if (focus !== d) zoom(d), d3.event.stopPropagation(); });\n",
    "\n",
    "  var text = g.selectAll(\"text\")\n",
    "    .data(nodes)\n",
    "    .enter().append(\"text\")\n",
    "      .attr(\"class\", \"label\")\n",
    "      .style(\"fill-opacity\", function(d) { return d.parent === root ? 1 : 0; })\n",
    "      .style(\"display\", function(d) { return d.parent === root ? \"inline\" : \"none\"; })\n",
    "      .text(function(d) { return d.data.name; });\n",
    "\n",
    "  var node = g.selectAll(\"circle,text\");\n",
    "\n",
    "  svg\n",
    "      .style(\"background\", color(-1))\n",
    "      .on(\"click\", function() { zoom(root); });\n",
    "\n",
    "  zoomTo([root.x, root.y, root.r * 2 + margin]);\n",
    "\n",
    "  function zoom(d) {\n",
    "    var focus0 = focus; focus = d;\n",
    "\n",
    "    var transition = d3.transition()\n",
    "        .duration(d3.event.altKey ? 7500 : 750)\n",
    "        .tween(\"zoom\", function(d) {\n",
    "          var i = d3.interpolateZoom(view, [focus.x, focus.y, focus.r * 2 + margin]);\n",
    "          return function(t) { zoomTo(i(t)); };\n",
    "        });\n",
    "\n",
    "    transition.selectAll(\"text\")\n",
    "      .filter(function(d) { return d.parent === focus || this.style.display === \"inline\"; })\n",
    "        .style(\"fill-opacity\", function(d) { return d.parent === focus ? 1 : 0; })\n",
    "        .on(\"start\", function(d) { if (d.parent === focus) this.style.display = \"inline\"; })\n",
    "        .on(\"end\", function(d) { if (d.parent !== focus) this.style.display = \"none\"; });\n",
    "  }\n",
    "\n",
    "  function zoomTo(v) {\n",
    "    var k = diameter / v[2]; view = v;\n",
    "    node.attr(\"transform\", function(d) { return \"translate(\" + (d.x - v[0]) * k + \",\" + (d.y - v[1]) * k + \")\"; });\n",
    "    circle.attr(\"r\", function(d) { return d.r * k; });\n",
    "  }\n",
    "});\n",
    "  });\n",
    " \"\"\""
   ]
  },
  {
   "cell_type": "code",
   "execution_count": null,
   "metadata": {
    "_cell_guid": "3c3afa87-8238-43c7-b428-a657a3aff9dd",
    "_uuid": "f095456fda4d0cb45e24ef1d8d357858be575907",
    "collapsed": true,
    "scrolled": true
   },
   "outputs": [],
   "source": [
    "import IPython.display\n",
    "from IPython.core.display import display, HTML, Javascript\n",
    "h = display(HTML(html_string))\n",
    "j = IPython.display.Javascript(js_string)\n",
    "IPython.display.display_javascript(j)"
   ]
  },
  {
   "cell_type": "markdown",
   "metadata": {
    "_cell_guid": "e595ae41-ded2-48ef-a53c-00dd3fe19aca",
    "_uuid": "920c726175bbb1101e1a2a6264eaad3c93a6185c"
   },
   "source": [
    "어떤 슛팅이 성공률이 높은지 시각화로 쉽게 알아보자 by seaborn (바 차트)"
   ]
  },
  {
   "cell_type": "code",
   "execution_count": null,
   "metadata": {
    "_cell_guid": "461775a2-f5c1-470a-a2a7-a2480c872011",
    "_uuid": "d9d5d1c3ffc4bc6ca6de4e1ebc162ff15cd491c2",
    "collapsed": true
   },
   "outputs": [],
   "source": [
    "shoot_percentage = df.dropna()[['combined_shot_type','shot_made_flag']].groupby(['combined_shot_type']).mean().sort_values(by='shot_made_flag',ascending=1)"
   ]
  },
  {
   "cell_type": "code",
   "execution_count": null,
   "metadata": {
    "_cell_guid": "c09a467f-1051-48e6-93a7-599df0204d56",
    "_uuid": "1ad1fb19ce7acec8016194fb600a2c3c406a2ff4",
    "collapsed": true
   },
   "outputs": [],
   "source": [
    "shoot_percentage\n",
    "shoot_percentage.index\n",
    "shoot_percentage.columns"
   ]
  },
  {
   "cell_type": "code",
   "execution_count": null,
   "metadata": {
    "_cell_guid": "10399b01-af09-4af5-b190-0fa04183d685",
    "_uuid": "764dee429c31e2b194e2d84a7c8ccf6f140fd5fe",
    "collapsed": true
   },
   "outputs": [],
   "source": [
    "import seaborn as sns\n",
    "import matplotlib.pyplot as plt\n",
    "sns.barplot(x=shoot_percentage.index,y=shoot_percentage.shot_made_flag)\n",
    "#plt.xticks(rotation=45)\n",
    "plt.show()"
   ]
  },
  {
   "cell_type": "markdown",
   "metadata": {
    "_cell_guid": "53a9efb4-ad40-43d8-90c5-76ac8ad6ba71",
    "_uuid": "ef41de97fc1f9d2057a235cd9658a7956192d184"
   },
   "source": [
    "골대에서 멀어질 수록 정말 골을 넣기 어려운지 알아보자 by seaborn (도트 플롯 맵)"
   ]
  },
  {
   "cell_type": "code",
   "execution_count": null,
   "metadata": {
    "_cell_guid": "5515fa2f-3cdc-439e-8370-79635bc6dd73",
    "_uuid": "f059ea56c5c3a5bd235e8c0bd5d86bdd41f7e2b5",
    "collapsed": true
   },
   "outputs": [],
   "source": [
    "df.head(2)\n",
    "df.tail(2)"
   ]
  },
  {
   "cell_type": "code",
   "execution_count": null,
   "metadata": {
    "_cell_guid": "83f7a135-8d06-4838-83b3-2818088545dc",
    "_uuid": "0cf5e6d5545d41523a7f72366ab97323a8b40e13",
    "collapsed": true
   },
   "outputs": [],
   "source": [
    "df['shot_zone_combined'] = df[['shot_zone_area','shot_zone_basic']].apply(lambda x: ' '.join(x), axis=1)\n",
    "df.head(2)\n",
    "df.tail(2)"
   ]
  },
  {
   "cell_type": "code",
   "execution_count": null,
   "metadata": {
    "_cell_guid": "f4773db7-cd64-47d6-9c13-172ca65e9169",
    "_uuid": "3856e3a65f83a2abbd161ea85839110545718aeb",
    "collapsed": true
   },
   "outputs": [],
   "source": [
    "shot_zone_map = df.groupby(['shot_zone_combined']).mean()['shot_made_flag']\n",
    "shot_zone_map"
   ]
  },
  {
   "cell_type": "code",
   "execution_count": null,
   "metadata": {
    "_cell_guid": "7d6f33a1-c01b-4d45-a6b1-5afb2169ca5a",
    "_uuid": "f9da27b659a6f46ef3eade3dac922da5263ea961",
    "collapsed": true
   },
   "outputs": [],
   "source": [
    "df['avg_by_shot_zone_combined'] = df['shot_zone_combined'].map(shot_zone_map)\n",
    "df.head(2)\n",
    "df.tail(2)\n",
    "df = df[df['loc_y']>=0]"
   ]
  },
  {
   "cell_type": "code",
   "execution_count": null,
   "metadata": {
    "_cell_guid": "7ceac8fe-a5a8-4f67-b694-4ac7f5eb84d5",
    "_uuid": "6d35631217e826b30b98e5f044263fd57899f2c0",
    "collapsed": true
   },
   "outputs": [],
   "source": [
    "fig = plt.figure(figsize=(10,8))\n",
    "plt.scatter(df['loc_x'],df['loc_y'],c=df['avg_by_shot_zone_combined'])\n",
    "plt.xlim(280,-280)\n",
    "plt.ylim(-10,450)\n",
    "plt.colorbar()\n",
    "plt.title('Kobe Bryant\\'s shot accuracy by Shot Zone')\n"
   ]
  },
  {
   "cell_type": "code",
   "execution_count": null,
   "metadata": {
    "_cell_guid": "60a64c07-86d9-4aca-a9db-f7ba781b3f85",
    "_uuid": "586ec128c7e44c29c2be2461786b692305d797c1",
    "collapsed": true
   },
   "outputs": [],
   "source": [
    "plt.show()\n",
    "#plt.savefig('Kobe Bryants shot accuracy by zone.png')"
   ]
  },
  {
   "cell_type": "code",
   "execution_count": null,
   "metadata": {
    "_cell_guid": "473a6f69-f3a5-41cd-a5aa-0cbb4e6ee73a",
    "_uuid": "9b9fc2f66448eb9d56f25928fb9c292e9482230b",
    "collapsed": true
   },
   "outputs": [],
   "source": []
  },
  {
   "cell_type": "code",
   "execution_count": null,
   "metadata": {
    "_cell_guid": "e84e5657-a720-43ae-aea1-722968e08c97",
    "_uuid": "532288ab086c96992a1fc6f8ec22fe57818d9bc2",
    "collapsed": true
   },
   "outputs": [],
   "source": []
  },
  {
   "cell_type": "code",
   "execution_count": null,
   "metadata": {
    "_cell_guid": "6f125e3c-72a2-461f-9be0-2a3daade7bd3",
    "_uuid": "659ac2f7724fd161754664332742314387c28e38",
    "collapsed": true
   },
   "outputs": [],
   "source": []
  },
  {
   "cell_type": "code",
   "execution_count": null,
   "metadata": {
    "_cell_guid": "83cb3a82-203f-4f89-965e-c9fc48ee8301",
    "_uuid": "818c780b547cb4e1d039302570df4f2c55b059cb",
    "collapsed": true
   },
   "outputs": [],
   "source": []
  }
 ],
 "metadata": {
  "kernelspec": {
   "display_name": "Python 3",
   "language": "python",
   "name": "python3"
  },
  "language_info": {
   "codemirror_mode": {
    "name": "ipython",
    "version": 3
   },
   "file_extension": ".py",
   "mimetype": "text/x-python",
   "name": "python",
   "nbconvert_exporter": "python",
   "pygments_lexer": "ipython3",
   "version": "3.6.1"
  }
 },
 "nbformat": 4,
 "nbformat_minor": 1
}
